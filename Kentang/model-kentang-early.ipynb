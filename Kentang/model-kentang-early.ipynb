{
 "cells": [
  {
   "attachments": {},
   "cell_type": "markdown",
   "metadata": {},
   "source": [
    "# Model kentang tanpa transfer learning"
   ]
  },
  {
   "cell_type": "code",
   "execution_count": 1,
   "metadata": {},
   "outputs": [
    {
     "name": "stderr",
     "output_type": "stream",
     "text": [
      "2023-05-19 09:47:37.803723: I tensorflow/core/platform/cpu_feature_guard.cc:182] This TensorFlow binary is optimized to use available CPU instructions in performance-critical operations.\n",
      "To enable the following instructions: AVX2 FMA, in other operations, rebuild TensorFlow with the appropriate compiler flags.\n"
     ]
    }
   ],
   "source": [
    "import tensorflow as tf\n",
    "tf.keras.backend.clear_session()"
   ]
  },
  {
   "cell_type": "code",
   "execution_count": 2,
   "metadata": {},
   "outputs": [],
   "source": [
    "# TensorFlow and tf.keras\n",
    "import tensorflow as tf\n",
    "import os\n",
    "\n",
    "# Helper libraries\n",
    "import numpy as np\n",
    "import matplotlib.pyplot as plt\n",
    "from keras.preprocessing.image import ImageDataGenerator\n",
    "\n",
    "from keras.models import Sequential\n",
    "from keras.layers import Dense, Dropout, Conv2D, Activation, Flatten, MaxPool2D\n",
    "from keras.optimizers import Adam, RMSprop\n"
   ]
  },
  {
   "cell_type": "code",
   "execution_count": 3,
   "metadata": {},
   "outputs": [
    {
     "name": "stdout",
     "output_type": "stream",
     "text": [
      "Num GPUs Available:  1\n"
     ]
    }
   ],
   "source": [
    "print(\"Num GPUs Available: \", len(tf.config.list_physical_devices('GPU')))\n",
    "import os\n",
    "os.environ['TF_GPU_ALLOCATOR'] = 'cuda_malloc_async'"
   ]
  },
  {
   "cell_type": "code",
   "execution_count": 4,
   "metadata": {},
   "outputs": [
    {
     "name": "stdout",
     "output_type": "stream",
     "text": [
      "Requirement already satisfied: split-folders in /usr/local/lib/python3.8/dist-packages (0.5.1)\n",
      "\u001b[33mWARNING: Running pip as the 'root' user can result in broken permissions and conflicting behaviour with the system package manager. It is recommended to use a virtual environment instead: https://pip.pypa.io/warnings/venv\u001b[0m\u001b[33m\n",
      "\u001b[0mNote: you may need to restart the kernel to use updated packages.\n"
     ]
    }
   ],
   "source": [
    "%pip install split-folders"
   ]
  },
  {
   "cell_type": "code",
   "execution_count": 5,
   "metadata": {},
   "outputs": [],
   "source": [
    "# Split train test \n",
    "import splitfolders \n",
    "splitfolders.ratio(\"Kentang\", output=\"Kentang-data\", seed=1337, ratio=(.8, .2), group_prefix=None) "
   ]
  },
  {
   "cell_type": "code",
   "execution_count": 6,
   "metadata": {},
   "outputs": [],
   "source": [
    "training_dir = os.path.join('/tf/disk/Kentang-data/', 'train')\n",
    "testing_dir = os.path.join('/tf/disk/Kentang-data/', 'val')"
   ]
  },
  {
   "cell_type": "code",
   "execution_count": 7,
   "metadata": {},
   "outputs": [
    {
     "name": "stdout",
     "output_type": "stream",
     "text": [
      "Found 1874 images belonging to 3 classes.\n",
      "Found 471 images belonging to 3 classes.\n"
     ]
    }
   ],
   "source": [
    "training_datagen = ImageDataGenerator(\n",
    "      rescale = 1./255,\n",
    "\t    rotation_range=40,\n",
    "      width_shift_range=0.2,\n",
    "      height_shift_range=0.2,\n",
    "      shear_range=0.2,\n",
    "      zoom_range=0.2,\n",
    "      horizontal_flip=True,\n",
    "      fill_mode='nearest')\n",
    "\n",
    "validation_datagen = ImageDataGenerator(rescale = 1./255)\n",
    "\n",
    "train_generator = training_datagen.flow_from_directory(\n",
    "\ttraining_dir,\n",
    "\ttarget_size=(150,150),\n",
    "\tclass_mode='categorical',\n",
    "  batch_size=32\n",
    ")\n",
    "\n",
    "validation_generator = validation_datagen.flow_from_directory(\n",
    "\ttesting_dir,\n",
    "\ttarget_size=(150,150),\n",
    "\tclass_mode='categorical',\n",
    "  batch_size=32\n",
    ")"
   ]
  },
  {
   "cell_type": "code",
   "execution_count": 24,
   "metadata": {},
   "outputs": [
    {
     "name": "stdout",
     "output_type": "stream",
     "text": [
      "{'Potato__early_blight': 0, 'Potato__healthy': 1, 'Potato__late_blight': 2}\n",
      "['Potato__early_blight', 'Potato__healthy', 'Potato__late_blight']\n"
     ]
    }
   ],
   "source": [
    "class_indices = train_generator.class_indices\n",
    "print(class_indices)\n",
    "class_names = list(class_indices.keys())\n",
    "print(class_names)"
   ]
  },
  {
   "cell_type": "code",
   "execution_count": 9,
   "metadata": {},
   "outputs": [],
   "source": [
    "class myCallback(tf.keras.callbacks.Callback):\n",
    "  def on_epoch_end(self, epoch, logs={}):\n",
    "    if(logs.get('val_accuracy')>0.96):\n",
    "      print(\"\\nReached 96% accuracy so cancelling training!\")\n",
    "      self.model.stop_training = True"
   ]
  },
  {
   "cell_type": "code",
   "execution_count": 30,
   "metadata": {},
   "outputs": [
    {
     "name": "stdout",
     "output_type": "stream",
     "text": [
      "Model: \"sequential_1\"\n",
      "_________________________________________________________________\n",
      " Layer (type)                Output Shape              Param #   \n",
      "=================================================================\n",
      " conv2d_3 (Conv2D)           (None, 148, 148, 64)      1792      \n",
      "                                                                 \n",
      " max_pooling2d_3 (MaxPooling  (None, 74, 74, 64)       0         \n",
      " 2D)                                                             \n",
      "                                                                 \n",
      " conv2d_4 (Conv2D)           (None, 72, 72, 64)        36928     \n",
      "                                                                 \n",
      " max_pooling2d_4 (MaxPooling  (None, 36, 36, 64)       0         \n",
      " 2D)                                                             \n",
      "                                                                 \n",
      " conv2d_5 (Conv2D)           (None, 34, 34, 128)       73856     \n",
      "                                                                 \n",
      " max_pooling2d_5 (MaxPooling  (None, 17, 17, 128)      0         \n",
      " 2D)                                                             \n",
      "                                                                 \n",
      " conv2d_6 (Conv2D)           (None, 15, 15, 128)       147584    \n",
      "                                                                 \n",
      " max_pooling2d_6 (MaxPooling  (None, 7, 7, 128)        0         \n",
      " 2D)                                                             \n",
      "                                                                 \n",
      " flatten_1 (Flatten)         (None, 6272)              0         \n",
      "                                                                 \n",
      " dropout_1 (Dropout)         (None, 6272)              0         \n",
      "                                                                 \n",
      " dense_2 (Dense)             (None, 512)               3211776   \n",
      "                                                                 \n",
      " dense_3 (Dense)             (None, 3)                 1539      \n",
      "                                                                 \n",
      "=================================================================\n",
      "Total params: 3,473,475\n",
      "Trainable params: 3,473,475\n",
      "Non-trainable params: 0\n",
      "_________________________________________________________________\n"
     ]
    }
   ],
   "source": [
    "model = tf.keras.models.Sequential([\n",
    "    # Note the input shape is the desired size of the image 150x150 with 3 bytes color\n",
    "    # This is the first convolution\n",
    "    tf.keras.layers.Conv2D(64, (3,3), activation='relu', input_shape=(150, 150, 3)),\n",
    "    tf.keras.layers.MaxPooling2D(2, 2),\n",
    "    # The second convolution\n",
    "    tf.keras.layers.Conv2D(64, (3,3), activation='relu'),\n",
    "    tf.keras.layers.MaxPooling2D(2,2),\n",
    "    # The third convolution\n",
    "    tf.keras.layers.Conv2D(128, (3,3), activation='relu'),\n",
    "    tf.keras.layers.MaxPooling2D(2,2),\n",
    "    # The fourth convolution\n",
    "    tf.keras.layers.Conv2D(128, (3,3), activation='relu'),\n",
    "    tf.keras.layers.MaxPooling2D(2,2),\n",
    "    # Flatten the results to feed into a DNN\n",
    "    tf.keras.layers.Flatten(),\n",
    "    tf.keras.layers.Dropout(0.5),\n",
    "    # 512 neuron hidden layer\n",
    "    tf.keras.layers.Dense(512, activation='relu'),\n",
    "    tf.keras.layers.Dense(3, activation='softmax')\n",
    "])\n",
    "\n",
    "# Print the model summary\n",
    "model.summary()\n"
   ]
  },
  {
   "cell_type": "code",
   "execution_count": 31,
   "metadata": {},
   "outputs": [],
   "source": [
    "model.compile(loss = 'categorical_crossentropy',\n",
    "              optimizer='rmsprop',\n",
    "              metrics=['accuracy'])"
   ]
  },
  {
   "cell_type": "code",
   "execution_count": 32,
   "metadata": {},
   "outputs": [
    {
     "name": "stdout",
     "output_type": "stream",
     "text": [
      "Epoch 1/50\n"
     ]
    },
    {
     "name": "stderr",
     "output_type": "stream",
     "text": [
      "2023-05-19 10:03:49.779985: I tensorflow/core/common_runtime/executor.cc:1197] [/device:CPU:0] (DEBUG INFO) Executor start aborting (this does not indicate an error and you can ignore this message): INVALID_ARGUMENT: You must feed a value for placeholder tensor 'Placeholder/_0' with dtype int32\n",
      "\t [[{{node Placeholder/_0}}]]\n"
     ]
    },
    {
     "name": "stdout",
     "output_type": "stream",
     "text": [
      "59/59 [==============================] - ETA: 0s - loss: 0.9737 - accuracy: 0.4797"
     ]
    },
    {
     "name": "stderr",
     "output_type": "stream",
     "text": [
      "2023-05-19 10:04:38.834223: I tensorflow/core/common_runtime/executor.cc:1197] [/device:CPU:0] (DEBUG INFO) Executor start aborting (this does not indicate an error and you can ignore this message): INVALID_ARGUMENT: You must feed a value for placeholder tensor 'Placeholder/_0' with dtype int32\n",
      "\t [[{{node Placeholder/_0}}]]\n"
     ]
    },
    {
     "name": "stdout",
     "output_type": "stream",
     "text": [
      "59/59 [==============================] - 52s 856ms/step - loss: 0.9737 - accuracy: 0.4797 - val_loss: 0.9058 - val_accuracy: 0.5625\n",
      "Epoch 2/50\n",
      "59/59 [==============================] - 12s 212ms/step - loss: 0.8652 - accuracy: 0.5939 - val_loss: 0.7557 - val_accuracy: 0.7188\n",
      "Epoch 3/50\n",
      "59/59 [==============================] - 12s 203ms/step - loss: 0.7420 - accuracy: 0.6836 - val_loss: 0.5168 - val_accuracy: 0.7396\n",
      "Epoch 4/50\n",
      "59/59 [==============================] - 11s 189ms/step - loss: 0.6339 - accuracy: 0.7428 - val_loss: 0.5793 - val_accuracy: 0.6979\n",
      "Epoch 5/50\n",
      "59/59 [==============================] - 11s 183ms/step - loss: 0.5625 - accuracy: 0.7631 - val_loss: 1.0375 - val_accuracy: 0.6042\n",
      "Epoch 6/50\n",
      "59/59 [==============================] - 12s 196ms/step - loss: 0.5024 - accuracy: 0.7850 - val_loss: 0.6203 - val_accuracy: 0.7396\n",
      "Epoch 7/50\n",
      "59/59 [==============================] - 11s 183ms/step - loss: 0.4571 - accuracy: 0.8079 - val_loss: 1.0253 - val_accuracy: 0.6875\n",
      "Epoch 8/50\n",
      "59/59 [==============================] - 11s 185ms/step - loss: 0.4917 - accuracy: 0.7930 - val_loss: 0.6485 - val_accuracy: 0.7604\n",
      "Epoch 9/50\n",
      "59/59 [==============================] - 11s 186ms/step - loss: 0.3866 - accuracy: 0.8410 - val_loss: 0.3757 - val_accuracy: 0.8646\n",
      "Epoch 10/50\n",
      "59/59 [==============================] - 10s 164ms/step - loss: 0.4021 - accuracy: 0.8394 - val_loss: 0.6977 - val_accuracy: 0.7083\n",
      "Epoch 11/50\n",
      "59/59 [==============================] - 10s 164ms/step - loss: 0.4523 - accuracy: 0.8388 - val_loss: 0.2957 - val_accuracy: 0.9062\n",
      "Epoch 12/50\n",
      "59/59 [==============================] - 10s 165ms/step - loss: 0.3619 - accuracy: 0.8543 - val_loss: 0.2879 - val_accuracy: 0.9062\n",
      "Epoch 13/50\n",
      "59/59 [==============================] - 10s 172ms/step - loss: 0.3658 - accuracy: 0.8495 - val_loss: 0.2230 - val_accuracy: 0.9062\n",
      "Epoch 14/50\n",
      "59/59 [==============================] - 10s 172ms/step - loss: 0.4453 - accuracy: 0.8250 - val_loss: 0.2494 - val_accuracy: 0.8854\n",
      "Epoch 15/50\n",
      "59/59 [==============================] - 10s 169ms/step - loss: 0.3774 - accuracy: 0.8538 - val_loss: 0.2241 - val_accuracy: 0.9375\n",
      "Epoch 16/50\n",
      "59/59 [==============================] - 10s 175ms/step - loss: 0.3053 - accuracy: 0.8799 - val_loss: 0.2147 - val_accuracy: 0.9062\n",
      "Epoch 17/50\n",
      "59/59 [==============================] - 10s 169ms/step - loss: 0.3324 - accuracy: 0.8751 - val_loss: 0.1528 - val_accuracy: 0.9271\n",
      "Epoch 18/50\n",
      "59/59 [==============================] - 10s 170ms/step - loss: 0.3005 - accuracy: 0.8949 - val_loss: 0.2424 - val_accuracy: 0.8854\n",
      "Epoch 19/50\n",
      "59/59 [==============================] - 10s 173ms/step - loss: 0.2967 - accuracy: 0.8837 - val_loss: 0.1895 - val_accuracy: 0.9062\n",
      "Epoch 20/50\n",
      "59/59 [==============================] - 10s 174ms/step - loss: 0.2787 - accuracy: 0.8991 - val_loss: 0.2095 - val_accuracy: 0.9271\n",
      "Epoch 21/50\n",
      "59/59 [==============================] - 10s 164ms/step - loss: 0.2717 - accuracy: 0.8901 - val_loss: 0.1361 - val_accuracy: 0.9167\n",
      "Epoch 22/50\n",
      "59/59 [==============================] - 11s 178ms/step - loss: 0.2541 - accuracy: 0.8981 - val_loss: 0.4833 - val_accuracy: 0.7708\n",
      "Epoch 23/50\n",
      "59/59 [==============================] - 11s 178ms/step - loss: 0.2467 - accuracy: 0.8981 - val_loss: 0.1867 - val_accuracy: 0.9167\n",
      "Epoch 24/50\n",
      "59/59 [==============================] - 10s 173ms/step - loss: 0.2527 - accuracy: 0.9002 - val_loss: 0.3150 - val_accuracy: 0.8854\n",
      "Epoch 25/50\n",
      "59/59 [==============================] - 10s 165ms/step - loss: 0.2563 - accuracy: 0.8954 - val_loss: 0.2748 - val_accuracy: 0.8750\n",
      "Epoch 26/50\n",
      "59/59 [==============================] - 10s 163ms/step - loss: 0.2142 - accuracy: 0.9120 - val_loss: 0.2839 - val_accuracy: 0.8646\n",
      "Epoch 27/50\n",
      "59/59 [==============================] - 10s 171ms/step - loss: 0.1976 - accuracy: 0.9157 - val_loss: 0.1499 - val_accuracy: 0.9062\n",
      "Epoch 28/50\n",
      "59/59 [==============================] - 10s 177ms/step - loss: 0.2331 - accuracy: 0.9141 - val_loss: 0.7814 - val_accuracy: 0.7708\n",
      "Epoch 29/50\n",
      "59/59 [==============================] - 11s 187ms/step - loss: 0.2014 - accuracy: 0.9200 - val_loss: 0.1609 - val_accuracy: 0.9271\n",
      "Epoch 30/50\n",
      "59/59 [==============================] - 10s 165ms/step - loss: 0.2056 - accuracy: 0.9210 - val_loss: 0.5671 - val_accuracy: 0.7812\n",
      "Epoch 31/50\n",
      "59/59 [==============================] - ETA: 0s - loss: 0.1890 - accuracy: 0.9280\n",
      "Reached 96% accuracy so cancelling training!\n",
      "59/59 [==============================] - 10s 171ms/step - loss: 0.1890 - accuracy: 0.9280 - val_loss: 0.1256 - val_accuracy: 0.9688\n"
     ]
    }
   ],
   "source": [
    "history = model.fit(train_generator, \n",
    "                    epochs=50, \n",
    "                    validation_data = validation_generator, \n",
    "                    verbose = 1, \n",
    "                    callbacks=[myCallback()], \n",
    "                    validation_steps=3)"
   ]
  },
  {
   "cell_type": "code",
   "execution_count": 33,
   "metadata": {},
   "outputs": [
    {
     "name": "stdout",
     "output_type": "stream",
     "text": [
      "Model Saved!\n"
     ]
    }
   ],
   "source": [
    "model.save_weights('kentangModel2.h5')\n",
    "print('Model Saved!')\n",
    " \n",
    "# load model\n",
    "# savedModel = model.load_weights('kentangModelEarly.h5')\n",
    "# print('Model Loaded!')"
   ]
  },
  {
   "cell_type": "code",
   "execution_count": 34,
   "metadata": {},
   "outputs": [
    {
     "data": {
      "image/png": "[encoded data removed]",
      "text/plain": [
       "<Figure size 640x480 with 1 Axes>"
      ]
     },
     "metadata": {},
     "output_type": "display_data"
    },
    {
     "data": {
      "text/plain": [
       "<Figure size 640x480 with 0 Axes>"
      ]
     },
     "metadata": {},
     "output_type": "display_data"
    }
   ],
   "source": [
    "import matplotlib.pyplot as plt\n",
    "\n",
    "# Plot the results\n",
    "acc = history.history['accuracy']\n",
    "val_acc = history.history['val_accuracy']\n",
    "loss = history.history['loss']\n",
    "val_loss = history.history['val_loss']\n",
    "\n",
    "epochs = range(len(acc))\n",
    "\n",
    "plt.plot(epochs, acc, 'r', label='Training accuracy')\n",
    "plt.plot(epochs, val_acc, 'b', label='Validation accuracy')\n",
    "plt.title('Training and validation accuracy')\n",
    "plt.legend(loc=0)\n",
    "plt.figure()\n",
    "\n",
    "plt.show()\n"
   ]
  },
  {
   "cell_type": "code",
   "execution_count": 35,
   "metadata": {},
   "outputs": [
    {
     "name": "stdout",
     "output_type": "stream",
     "text": [
      "1/1 [==============================] - 0s 135ms/step\n",
      "This image most likely belongs to Potato__early_blight with a 57.61 percent confidence.\n"
     ]
    }
   ],
   "source": [
    "Potato__early_blight = ''\n",
    "Potato__early_blight = \"https://cropscience.bayer.co.uk/media/103035203/early-blight.png?preset=384_x_230\"\n",
    "Potato__early_blight = tf.keras.utils.get_file('Potato__early_blight', origin=Potato__early_blight)\n",
    "\n",
    "img = tf.keras.utils.load_img(\n",
    "    Potato__early_blight, target_size=(150, 150)\n",
    ")\n",
    "img_array = tf.keras.utils.img_to_array(img)\n",
    "img_array = tf.expand_dims(img_array, 0) # Create a batch\n",
    "\n",
    "predictions = model.predict(img_array)\n",
    "score = tf.nn.softmax(predictions[0])\n",
    "\n",
    "print(\n",
    "    \"This image most likely belongs to {} with a {:.2f} percent confidence.\"\n",
    "    .format(class_names[np.argmax(score)], 100 * np.max(score))\n",
    ")"
   ]
  }
 ],
 "metadata": {
  "kernelspec": {
   "display_name": "Python 3",
   "language": "python",
   "name": "python3"
  },
  "language_info": {
   "codemirror_mode": {
    "name": "ipython",
    "version": 3
   },
   "file_extension": ".py",
   "mimetype": "text/x-python",
   "name": "python",
   "nbconvert_exporter": "python",
   "pygments_lexer": "ipython3",
   "version": "3.8.10"
  },
  "orig_nbformat": 4
 },
 "nbformat": 4,
 "nbformat_minor": 2
}
